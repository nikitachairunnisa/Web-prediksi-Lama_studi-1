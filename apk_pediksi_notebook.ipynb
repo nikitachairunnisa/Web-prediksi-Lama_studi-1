{
 "cells": [
  {
   "attachments": {},
   "cell_type": "markdown",
   "metadata": {},
   "source": [
    "Deskripsi library\n"
   ]
  },
  {
   "cell_type": "code",
   "execution_count": 22,
   "metadata": {},
   "outputs": [],
   "source": [
    "import numpy as np\n",
    "import pandas as pd\n",
    "import matplotlib.pyplot as plt\n",
    "import seaborn as sns\n",
    "from sklearn.linear_model import Ridge\n",
    "from sklearn.model_selection import train_test_split\n",
    "from sklearn.metrics import mean_squared_error"
   ]
  },
  {
   "attachments": {},
   "cell_type": "markdown",
   "metadata": {},
   "source": [
    "MEMANGGIL DATA SET"
   ]
  },
  {
   "cell_type": "code",
   "execution_count": 23,
   "metadata": {},
   "outputs": [
    {
     "data": {
      "text/html": [
       "<div>\n",
       "<style scoped>\n",
       "    .dataframe tbody tr th:only-of-type {\n",
       "        vertical-align: middle;\n",
       "    }\n",
       "\n",
       "    .dataframe tbody tr th {\n",
       "        vertical-align: top;\n",
       "    }\n",
       "\n",
       "    .dataframe thead th {\n",
       "        text-align: right;\n",
       "    }\n",
       "</style>\n",
       "<table border=\"1\" class=\"dataframe\">\n",
       "  <thead>\n",
       "    <tr style=\"text-align: right;\">\n",
       "      <th></th>\n",
       "      <th>JENIS KELAMIN</th>\n",
       "      <th>IP S1</th>\n",
       "      <th>IP S2</th>\n",
       "      <th>IP S3</th>\n",
       "      <th>IP S4</th>\n",
       "      <th>IP S5</th>\n",
       "      <th>IP S6</th>\n",
       "      <th>IPK</th>\n",
       "      <th>LAMA STUDI</th>\n",
       "    </tr>\n",
       "  </thead>\n",
       "  <tbody>\n",
       "    <tr>\n",
       "      <th>0</th>\n",
       "      <td>Laki-laki</td>\n",
       "      <td>3.74</td>\n",
       "      <td>3.93</td>\n",
       "      <td>3.89</td>\n",
       "      <td>3.69</td>\n",
       "      <td>3.82</td>\n",
       "      <td>4.00</td>\n",
       "      <td>3.83</td>\n",
       "      <td>3.00</td>\n",
       "    </tr>\n",
       "    <tr>\n",
       "      <th>1</th>\n",
       "      <td>Perempuan</td>\n",
       "      <td>3.73</td>\n",
       "      <td>3.95</td>\n",
       "      <td>3.83</td>\n",
       "      <td>3.81</td>\n",
       "      <td>3.62</td>\n",
       "      <td>3.89</td>\n",
       "      <td>3.80</td>\n",
       "      <td>3.00</td>\n",
       "    </tr>\n",
       "    <tr>\n",
       "      <th>2</th>\n",
       "      <td>Perempuan</td>\n",
       "      <td>3.56</td>\n",
       "      <td>2.95</td>\n",
       "      <td>3.53</td>\n",
       "      <td>3.15</td>\n",
       "      <td>3.29</td>\n",
       "      <td>3.64</td>\n",
       "      <td>3.34</td>\n",
       "      <td>3.00</td>\n",
       "    </tr>\n",
       "    <tr>\n",
       "      <th>3</th>\n",
       "      <td>Perempuan</td>\n",
       "      <td>3.94</td>\n",
       "      <td>3.99</td>\n",
       "      <td>3.83</td>\n",
       "      <td>3.83</td>\n",
       "      <td>3.75</td>\n",
       "      <td>3.93</td>\n",
       "      <td>3.88</td>\n",
       "      <td>3.00</td>\n",
       "    </tr>\n",
       "    <tr>\n",
       "      <th>4</th>\n",
       "      <td>Perempuan</td>\n",
       "      <td>3.66</td>\n",
       "      <td>3.32</td>\n",
       "      <td>3.06</td>\n",
       "      <td>3.33</td>\n",
       "      <td>3.21</td>\n",
       "      <td>3.89</td>\n",
       "      <td>3.40</td>\n",
       "      <td>3.00</td>\n",
       "    </tr>\n",
       "    <tr>\n",
       "      <th>...</th>\n",
       "      <td>...</td>\n",
       "      <td>...</td>\n",
       "      <td>...</td>\n",
       "      <td>...</td>\n",
       "      <td>...</td>\n",
       "      <td>...</td>\n",
       "      <td>...</td>\n",
       "      <td>...</td>\n",
       "      <td>...</td>\n",
       "    </tr>\n",
       "    <tr>\n",
       "      <th>561</th>\n",
       "      <td>Perempuan</td>\n",
       "      <td>3.35</td>\n",
       "      <td>3.47</td>\n",
       "      <td>3.51</td>\n",
       "      <td>3.74</td>\n",
       "      <td>3.68</td>\n",
       "      <td>3.93</td>\n",
       "      <td>3.60</td>\n",
       "      <td>3.08</td>\n",
       "    </tr>\n",
       "    <tr>\n",
       "      <th>562</th>\n",
       "      <td>Perempuan</td>\n",
       "      <td>3.61</td>\n",
       "      <td>3.28</td>\n",
       "      <td>3.54</td>\n",
       "      <td>3.44</td>\n",
       "      <td>3.49</td>\n",
       "      <td>3.82</td>\n",
       "      <td>3.51</td>\n",
       "      <td>3.08</td>\n",
       "    </tr>\n",
       "    <tr>\n",
       "      <th>563</th>\n",
       "      <td>Laki-laki</td>\n",
       "      <td>3.11</td>\n",
       "      <td>3.20</td>\n",
       "      <td>3.31</td>\n",
       "      <td>3.46</td>\n",
       "      <td>3.55</td>\n",
       "      <td>3.75</td>\n",
       "      <td>3.38</td>\n",
       "      <td>3.08</td>\n",
       "    </tr>\n",
       "    <tr>\n",
       "      <th>564</th>\n",
       "      <td>Perempuan</td>\n",
       "      <td>3.22</td>\n",
       "      <td>3.14</td>\n",
       "      <td>3.43</td>\n",
       "      <td>3.61</td>\n",
       "      <td>3.68</td>\n",
       "      <td>3.86</td>\n",
       "      <td>3.48</td>\n",
       "      <td>3.08</td>\n",
       "    </tr>\n",
       "    <tr>\n",
       "      <th>565</th>\n",
       "      <td>Perempuan</td>\n",
       "      <td>2.85</td>\n",
       "      <td>2.61</td>\n",
       "      <td>2.75</td>\n",
       "      <td>3.34</td>\n",
       "      <td>3.49</td>\n",
       "      <td>3.68</td>\n",
       "      <td>3.10</td>\n",
       "      <td>3.50</td>\n",
       "    </tr>\n",
       "  </tbody>\n",
       "</table>\n",
       "<p>566 rows × 9 columns</p>\n",
       "</div>"
      ],
      "text/plain": [
       "    JENIS KELAMIN  IP S1  IP S2  IP S3  IP S4  IP S5  IP S6   IPK  LAMA STUDI\n",
       "0       Laki-laki   3.74   3.93   3.89   3.69   3.82   4.00  3.83        3.00\n",
       "1       Perempuan   3.73   3.95   3.83   3.81   3.62   3.89  3.80        3.00\n",
       "2       Perempuan   3.56   2.95   3.53   3.15   3.29   3.64  3.34        3.00\n",
       "3       Perempuan   3.94   3.99   3.83   3.83   3.75   3.93  3.88        3.00\n",
       "4       Perempuan   3.66   3.32   3.06   3.33   3.21   3.89  3.40        3.00\n",
       "..            ...    ...    ...    ...    ...    ...    ...   ...         ...\n",
       "561     Perempuan   3.35   3.47   3.51   3.74   3.68   3.93  3.60        3.08\n",
       "562     Perempuan   3.61   3.28   3.54   3.44   3.49   3.82  3.51        3.08\n",
       "563     Laki-laki   3.11   3.20   3.31   3.46   3.55   3.75  3.38        3.08\n",
       "564     Perempuan   3.22   3.14   3.43   3.61   3.68   3.86  3.48        3.08\n",
       "565     Perempuan   2.85   2.61   2.75   3.34   3.49   3.68  3.10        3.50\n",
       "\n",
       "[566 rows x 9 columns]"
      ]
     },
     "execution_count": 23,
     "metadata": {},
     "output_type": "execute_result"
    }
   ],
   "source": [
    "df = pd.read_excel('data 3 minol.xlsx')\n",
    "df"
   ]
  },
  {
   "attachments": {},
   "cell_type": "markdown",
   "metadata": {},
   "source": [
    "DESKRIPSI DATASET"
   ]
  },
  {
   "cell_type": "code",
   "execution_count": 24,
   "metadata": {},
   "outputs": [
    {
     "data": {
      "text/plain": [
       "<Axes: >"
      ]
     },
     "execution_count": 24,
     "metadata": {},
     "output_type": "execute_result"
    },
    {
     "data": {
      "image/png": "[encoded data removed]",
      "text/plain": [
       "<Figure size 640x480 with 2 Axes>"
      ]
     },
     "metadata": {},
     "output_type": "display_data"
    }
   ],
   "source": [
    "sns.heatmap(df.isnull())"
   ]
  },
  {
   "cell_type": "code",
   "execution_count": 25,
   "metadata": {},
   "outputs": [
    {
     "data": {
      "text/html": [
       "<div>\n",
       "<style scoped>\n",
       "    .dataframe tbody tr th:only-of-type {\n",
       "        vertical-align: middle;\n",
       "    }\n",
       "\n",
       "    .dataframe tbody tr th {\n",
       "        vertical-align: top;\n",
       "    }\n",
       "\n",
       "    .dataframe thead th {\n",
       "        text-align: right;\n",
       "    }\n",
       "</style>\n",
       "<table border=\"1\" class=\"dataframe\">\n",
       "  <thead>\n",
       "    <tr style=\"text-align: right;\">\n",
       "      <th></th>\n",
       "      <th>JENIS KELAMIN</th>\n",
       "      <th>IP S1</th>\n",
       "      <th>IP S2</th>\n",
       "      <th>IP S3</th>\n",
       "      <th>IP S4</th>\n",
       "      <th>IP S5</th>\n",
       "      <th>IP S6</th>\n",
       "      <th>IPK</th>\n",
       "      <th>LAMA STUDI</th>\n",
       "    </tr>\n",
       "  </thead>\n",
       "  <tbody>\n",
       "    <tr>\n",
       "      <th>0</th>\n",
       "      <td>False</td>\n",
       "      <td>False</td>\n",
       "      <td>False</td>\n",
       "      <td>False</td>\n",
       "      <td>False</td>\n",
       "      <td>False</td>\n",
       "      <td>False</td>\n",
       "      <td>False</td>\n",
       "      <td>False</td>\n",
       "    </tr>\n",
       "    <tr>\n",
       "      <th>1</th>\n",
       "      <td>False</td>\n",
       "      <td>False</td>\n",
       "      <td>False</td>\n",
       "      <td>False</td>\n",
       "      <td>False</td>\n",
       "      <td>False</td>\n",
       "      <td>False</td>\n",
       "      <td>False</td>\n",
       "      <td>False</td>\n",
       "    </tr>\n",
       "    <tr>\n",
       "      <th>2</th>\n",
       "      <td>False</td>\n",
       "      <td>False</td>\n",
       "      <td>False</td>\n",
       "      <td>False</td>\n",
       "      <td>False</td>\n",
       "      <td>False</td>\n",
       "      <td>False</td>\n",
       "      <td>False</td>\n",
       "      <td>False</td>\n",
       "    </tr>\n",
       "    <tr>\n",
       "      <th>3</th>\n",
       "      <td>False</td>\n",
       "      <td>False</td>\n",
       "      <td>False</td>\n",
       "      <td>False</td>\n",
       "      <td>False</td>\n",
       "      <td>False</td>\n",
       "      <td>False</td>\n",
       "      <td>False</td>\n",
       "      <td>False</td>\n",
       "    </tr>\n",
       "    <tr>\n",
       "      <th>4</th>\n",
       "      <td>False</td>\n",
       "      <td>False</td>\n",
       "      <td>False</td>\n",
       "      <td>False</td>\n",
       "      <td>False</td>\n",
       "      <td>False</td>\n",
       "      <td>False</td>\n",
       "      <td>False</td>\n",
       "      <td>False</td>\n",
       "    </tr>\n",
       "    <tr>\n",
       "      <th>...</th>\n",
       "      <td>...</td>\n",
       "      <td>...</td>\n",
       "      <td>...</td>\n",
       "      <td>...</td>\n",
       "      <td>...</td>\n",
       "      <td>...</td>\n",
       "      <td>...</td>\n",
       "      <td>...</td>\n",
       "      <td>...</td>\n",
       "    </tr>\n",
       "    <tr>\n",
       "      <th>561</th>\n",
       "      <td>False</td>\n",
       "      <td>False</td>\n",
       "      <td>False</td>\n",
       "      <td>False</td>\n",
       "      <td>False</td>\n",
       "      <td>False</td>\n",
       "      <td>False</td>\n",
       "      <td>False</td>\n",
       "      <td>False</td>\n",
       "    </tr>\n",
       "    <tr>\n",
       "      <th>562</th>\n",
       "      <td>False</td>\n",
       "      <td>False</td>\n",
       "      <td>False</td>\n",
       "      <td>False</td>\n",
       "      <td>False</td>\n",
       "      <td>False</td>\n",
       "      <td>False</td>\n",
       "      <td>False</td>\n",
       "      <td>False</td>\n",
       "    </tr>\n",
       "    <tr>\n",
       "      <th>563</th>\n",
       "      <td>False</td>\n",
       "      <td>False</td>\n",
       "      <td>False</td>\n",
       "      <td>False</td>\n",
       "      <td>False</td>\n",
       "      <td>False</td>\n",
       "      <td>False</td>\n",
       "      <td>False</td>\n",
       "      <td>False</td>\n",
       "    </tr>\n",
       "    <tr>\n",
       "      <th>564</th>\n",
       "      <td>False</td>\n",
       "      <td>False</td>\n",
       "      <td>False</td>\n",
       "      <td>False</td>\n",
       "      <td>False</td>\n",
       "      <td>False</td>\n",
       "      <td>False</td>\n",
       "      <td>False</td>\n",
       "      <td>False</td>\n",
       "    </tr>\n",
       "    <tr>\n",
       "      <th>565</th>\n",
       "      <td>False</td>\n",
       "      <td>False</td>\n",
       "      <td>False</td>\n",
       "      <td>False</td>\n",
       "      <td>False</td>\n",
       "      <td>False</td>\n",
       "      <td>False</td>\n",
       "      <td>False</td>\n",
       "      <td>False</td>\n",
       "    </tr>\n",
       "  </tbody>\n",
       "</table>\n",
       "<p>566 rows × 9 columns</p>\n",
       "</div>"
      ],
      "text/plain": [
       "     JENIS KELAMIN  IP S1  IP S2  IP S3  IP S4  IP S5  IP S6    IPK  \\\n",
       "0            False  False  False  False  False  False  False  False   \n",
       "1            False  False  False  False  False  False  False  False   \n",
       "2            False  False  False  False  False  False  False  False   \n",
       "3            False  False  False  False  False  False  False  False   \n",
       "4            False  False  False  False  False  False  False  False   \n",
       "..             ...    ...    ...    ...    ...    ...    ...    ...   \n",
       "561          False  False  False  False  False  False  False  False   \n",
       "562          False  False  False  False  False  False  False  False   \n",
       "563          False  False  False  False  False  False  False  False   \n",
       "564          False  False  False  False  False  False  False  False   \n",
       "565          False  False  False  False  False  False  False  False   \n",
       "\n",
       "     LAMA STUDI  \n",
       "0         False  \n",
       "1         False  \n",
       "2         False  \n",
       "3         False  \n",
       "4         False  \n",
       "..          ...  \n",
       "561       False  \n",
       "562       False  \n",
       "563       False  \n",
       "564       False  \n",
       "565       False  \n",
       "\n",
       "[566 rows x 9 columns]"
      ]
     },
     "execution_count": 25,
     "metadata": {},
     "output_type": "execute_result"
    }
   ],
   "source": [
    "df.isnull()\n"
   ]
  },
  {
   "cell_type": "code",
   "execution_count": 26,
   "metadata": {},
   "outputs": [
    {
     "data": {
      "text/html": [
       "<div>\n",
       "<style scoped>\n",
       "    .dataframe tbody tr th:only-of-type {\n",
       "        vertical-align: middle;\n",
       "    }\n",
       "\n",
       "    .dataframe tbody tr th {\n",
       "        vertical-align: top;\n",
       "    }\n",
       "\n",
       "    .dataframe thead th {\n",
       "        text-align: right;\n",
       "    }\n",
       "</style>\n",
       "<table border=\"1\" class=\"dataframe\">\n",
       "  <thead>\n",
       "    <tr style=\"text-align: right;\">\n",
       "      <th></th>\n",
       "      <th>IP S1</th>\n",
       "      <th>IP S2</th>\n",
       "      <th>IP S3</th>\n",
       "      <th>IP S4</th>\n",
       "      <th>IP S5</th>\n",
       "      <th>IP S6</th>\n",
       "      <th>IPK</th>\n",
       "      <th>LAMA STUDI</th>\n",
       "    </tr>\n",
       "  </thead>\n",
       "  <tbody>\n",
       "    <tr>\n",
       "      <th>count</th>\n",
       "      <td>566.000000</td>\n",
       "      <td>566.000000</td>\n",
       "      <td>566.000000</td>\n",
       "      <td>566.000000</td>\n",
       "      <td>566.000000</td>\n",
       "      <td>566.000000</td>\n",
       "      <td>566.000000</td>\n",
       "      <td>566.000000</td>\n",
       "    </tr>\n",
       "    <tr>\n",
       "      <th>mean</th>\n",
       "      <td>3.316113</td>\n",
       "      <td>3.213021</td>\n",
       "      <td>3.206961</td>\n",
       "      <td>3.337032</td>\n",
       "      <td>3.439293</td>\n",
       "      <td>3.628057</td>\n",
       "      <td>3.511608</td>\n",
       "      <td>3.163251</td>\n",
       "    </tr>\n",
       "    <tr>\n",
       "      <th>std</th>\n",
       "      <td>0.395539</td>\n",
       "      <td>0.425923</td>\n",
       "      <td>0.386221</td>\n",
       "      <td>0.314676</td>\n",
       "      <td>0.283470</td>\n",
       "      <td>0.319484</td>\n",
       "      <td>0.293100</td>\n",
       "      <td>0.322959</td>\n",
       "    </tr>\n",
       "    <tr>\n",
       "      <th>min</th>\n",
       "      <td>2.180000</td>\n",
       "      <td>2.090000</td>\n",
       "      <td>2.060000</td>\n",
       "      <td>2.240000</td>\n",
       "      <td>2.180000</td>\n",
       "      <td>2.530000</td>\n",
       "      <td>2.660000</td>\n",
       "      <td>2.830000</td>\n",
       "    </tr>\n",
       "    <tr>\n",
       "      <th>25%</th>\n",
       "      <td>3.030000</td>\n",
       "      <td>2.910000</td>\n",
       "      <td>2.960000</td>\n",
       "      <td>3.150000</td>\n",
       "      <td>3.280000</td>\n",
       "      <td>3.470000</td>\n",
       "      <td>3.310000</td>\n",
       "      <td>3.000000</td>\n",
       "    </tr>\n",
       "    <tr>\n",
       "      <th>50%</th>\n",
       "      <td>3.350000</td>\n",
       "      <td>3.225000</td>\n",
       "      <td>3.230000</td>\n",
       "      <td>3.355000</td>\n",
       "      <td>3.470000</td>\n",
       "      <td>3.720000</td>\n",
       "      <td>3.530000</td>\n",
       "      <td>3.000000</td>\n",
       "    </tr>\n",
       "    <tr>\n",
       "      <th>75%</th>\n",
       "      <td>3.650000</td>\n",
       "      <td>3.537500</td>\n",
       "      <td>3.490000</td>\n",
       "      <td>3.570000</td>\n",
       "      <td>3.670000</td>\n",
       "      <td>3.860000</td>\n",
       "      <td>3.750000</td>\n",
       "      <td>3.080000</td>\n",
       "    </tr>\n",
       "    <tr>\n",
       "      <th>max</th>\n",
       "      <td>4.000000</td>\n",
       "      <td>4.000000</td>\n",
       "      <td>3.990000</td>\n",
       "      <td>4.480000</td>\n",
       "      <td>3.970000</td>\n",
       "      <td>4.000000</td>\n",
       "      <td>4.000000</td>\n",
       "      <td>5.080000</td>\n",
       "    </tr>\n",
       "  </tbody>\n",
       "</table>\n",
       "</div>"
      ],
      "text/plain": [
       "            IP S1       IP S2       IP S3       IP S4       IP S5       IP S6  \\\n",
       "count  566.000000  566.000000  566.000000  566.000000  566.000000  566.000000   \n",
       "mean     3.316113    3.213021    3.206961    3.337032    3.439293    3.628057   \n",
       "std      0.395539    0.425923    0.386221    0.314676    0.283470    0.319484   \n",
       "min      2.180000    2.090000    2.060000    2.240000    2.180000    2.530000   \n",
       "25%      3.030000    2.910000    2.960000    3.150000    3.280000    3.470000   \n",
       "50%      3.350000    3.225000    3.230000    3.355000    3.470000    3.720000   \n",
       "75%      3.650000    3.537500    3.490000    3.570000    3.670000    3.860000   \n",
       "max      4.000000    4.000000    3.990000    4.480000    3.970000    4.000000   \n",
       "\n",
       "              IPK  LAMA STUDI  \n",
       "count  566.000000  566.000000  \n",
       "mean     3.511608    3.163251  \n",
       "std      0.293100    0.322959  \n",
       "min      2.660000    2.830000  \n",
       "25%      3.310000    3.000000  \n",
       "50%      3.530000    3.000000  \n",
       "75%      3.750000    3.080000  \n",
       "max      4.000000    5.080000  "
      ]
     },
     "execution_count": 26,
     "metadata": {},
     "output_type": "execute_result"
    }
   ],
   "source": [
    "df.describe()\n"
   ]
  },
  {
   "attachments": {},
   "cell_type": "markdown",
   "metadata": {},
   "source": [
    "VISUALISASI DATASET"
   ]
  },
  {
   "cell_type": "code",
   "execution_count": 27,
   "metadata": {},
   "outputs": [
    {
     "name": "stderr",
     "output_type": "stream",
     "text": [
      "C:\\Users\\HP\\AppData\\Local\\Temp\\ipykernel_2620\\127387827.py:2: UserWarning: \n",
      "\n",
      "`distplot` is a deprecated function and will be removed in seaborn v0.14.0.\n",
      "\n",
      "Please adapt your code to use either `displot` (a figure-level function with\n",
      "similar flexibility) or `histplot` (an axes-level function for histograms).\n",
      "\n",
      "For a guide to updating your code to use the new functions, please see\n",
      "https://gist.github.com/mwaskom/de44147ed2974457ad6372750bbe5751\n",
      "\n",
      "  sns.distplot(df['LAMA STUDI'])\n"
     ]
    },
    {
     "data": {
      "text/plain": [
       "<Axes: xlabel='LAMA STUDI', ylabel='Density'>"
      ]
     },
     "execution_count": 27,
     "metadata": {},
     "output_type": "execute_result"
    },
    {
     "data": {
      "image/png": "[encoded data removed]",
      "text/plain": [
       "<Figure size 1500x500 with 1 Axes>"
      ]
     },
     "metadata": {},
     "output_type": "display_data"
    }
   ],
   "source": [
    "plt.figure(figsize=(15,5))\n",
    "sns.distplot(df['LAMA STUDI'])\n"
   ]
  },
  {
   "attachments": {},
   "cell_type": "markdown",
   "metadata": {},
   "source": [
    "MELIHAT TIPE DATASET"
   ]
  },
  {
   "cell_type": "code",
   "execution_count": 28,
   "metadata": {},
   "outputs": [
    {
     "data": {
      "text/plain": [
       "JENIS KELAMIN     object\n",
       "IP S1            float64\n",
       "IP S2            float64\n",
       "IP S3            float64\n",
       "IP S4            float64\n",
       "IP S5            float64\n",
       "IP S6            float64\n",
       "IPK              float64\n",
       "LAMA STUDI       float64\n",
       "dtype: object"
      ]
     },
     "execution_count": 28,
     "metadata": {},
     "output_type": "execute_result"
    }
   ],
   "source": [
    "df.dtypes\n"
   ]
  },
  {
   "attachments": {},
   "cell_type": "markdown",
   "metadata": {},
   "source": [
    "MERUBAH TIPE DATA OBJECT PADA KOLOM JENIS KELAMIN MENJADI BERTIPE DATA INTEGER"
   ]
  },
  {
   "cell_type": "code",
   "execution_count": 29,
   "metadata": {},
   "outputs": [],
   "source": [
    "from sklearn.preprocessing import LabelEncoder\n",
    "labelencoder = LabelEncoder()\n",
    "df['JENIS KELAMIN'] = labelencoder.fit_transform(df['JENIS KELAMIN'])"
   ]
  },
  {
   "cell_type": "code",
   "execution_count": 30,
   "metadata": {},
   "outputs": [],
   "source": [
    "# Simpan label encoder setelah dilatih pada data pelatihan\n",
    "import pickle\n",
    "\n",
    "filename = 'label_encoder.pkl'\n",
    "pickle.dump(labelencoder, open(filename,'wb'))"
   ]
  },
  {
   "cell_type": "code",
   "execution_count": 31,
   "metadata": {},
   "outputs": [
    {
     "data": {
      "text/plain": [
       "JENIS KELAMIN      int32\n",
       "IP S1            float64\n",
       "IP S2            float64\n",
       "IP S3            float64\n",
       "IP S4            float64\n",
       "IP S5            float64\n",
       "IP S6            float64\n",
       "IPK              float64\n",
       "LAMA STUDI       float64\n",
       "dtype: object"
      ]
     },
     "execution_count": 31,
     "metadata": {},
     "output_type": "execute_result"
    }
   ],
   "source": [
    "df.dtypes"
   ]
  },
  {
   "cell_type": "code",
   "execution_count": 32,
   "metadata": {},
   "outputs": [
    {
     "data": {
      "text/plain": [
       "<Axes: >"
      ]
     },
     "execution_count": 32,
     "metadata": {},
     "output_type": "execute_result"
    },
    {
     "data": {
      "image/png": "[encoded data removed]",
      "text/plain": [
       "<Figure size 1000x800 with 2 Axes>"
      ]
     },
     "metadata": {},
     "output_type": "display_data"
    }
   ],
   "source": [
    "plt.figure(figsize=(10,8))\n",
    "sns.heatmap(df.corr(),annot=True)"
   ]
  },
  {
   "attachments": {},
   "cell_type": "markdown",
   "metadata": {},
   "source": [
    "MEMBAGI DATA MENJADI DATA INPUT DAN DATA TARGET"
   ]
  },
  {
   "cell_type": "code",
   "execution_count": 33,
   "metadata": {},
   "outputs": [],
   "source": [
    "x = df.iloc[:, :-1].values #data\n",
    "y = df.iloc[:,-1].values #target"
   ]
  },
  {
   "cell_type": "code",
   "execution_count": 36,
   "metadata": {},
   "outputs": [],
   "source": [
    "\n",
    "x_train, x_test, y_train, y_test = train_test_split(x, y, test_size=0.2, random_state=42)"
   ]
  },
  {
   "attachments": {},
   "cell_type": "markdown",
   "metadata": {},
   "source": [
    "MENGINISIASI DATA TRAINING DAN DATA TESTING DENGAN PEMBAGIAN DATA 80:20"
   ]
  },
  {
   "cell_type": "code",
   "execution_count": 37,
   "metadata": {},
   "outputs": [
    {
     "name": "stdout",
     "output_type": "stream",
     "text": [
      "LASSO Test MSE: 0.08026722640653236\n"
     ]
    }
   ],
   "source": [
    "# Ridge regression\n",
    "ridge = Ridge(alpha=0.1)\n",
    "ridge.fit(x_train, y_train)\n",
    "y_pred_ridge = ridge.predict(x_test)\n",
    "ridge_mse = mean_squared_error(y_test, y_pred_ridge)\n",
    "print('LASSO Test MSE:', ridge_mse)"
   ]
  },
  {
   "cell_type": "code",
   "execution_count": 38,
   "metadata": {},
   "outputs": [],
   "source": [
    "x_train, x_test, y_train, y_test = train_test_split(x, y, test_size=0.2, random_state=42)\n",
    "x_trainval, x_test, y_trainval, y_test = train_test_split(x, y, test_size=0.2, random_state=42)\n",
    "x_train, x_val, y_train, y_val = train_test_split(x_trainval, y_trainval, test_size=0.25, random_state=42)"
   ]
  },
  {
   "attachments": {},
   "cell_type": "markdown",
   "metadata": {},
   "source": [
    "PEMBUATAN MODEL REGRESI RIDGE"
   ]
  },
  {
   "attachments": {},
   "cell_type": "markdown",
   "metadata": {},
   "source": [
    "MENYESUAIKAN MODEL"
   ]
  },
  {
   "cell_type": "code",
   "execution_count": 39,
   "metadata": {},
   "outputs": [],
   "source": [
    "# Fit the Ridge Regression model\n",
    "ridge = Ridge(alpha=0.1)  # Adjust the alpha value as needed\n",
    "ridge.fit(x_train, y_train)\n",
    "y_pred = ridge.predict(x_test)"
   ]
  },
  {
   "attachments": {},
   "cell_type": "markdown",
   "metadata": {},
   "source": [
    "MENGEVALUASI MODEL MENGGUNAKAN MSE (MEAN SQUARE ERROR)"
   ]
  },
  {
   "cell_type": "code",
   "execution_count": 40,
   "metadata": {},
   "outputs": [
    {
     "name": "stdout",
     "output_type": "stream",
     "text": [
      "Ridge Regression:\n",
      "Validation MSE: 0.08654376217968614\n",
      "Test MSE: 0.07999949976787452\n",
      "\n"
     ]
    }
   ],
   "source": [
    "ridge_val_mse = mean_squared_error(y_val, ridge.predict(x_val))\n",
    "ridge_test_mse = mean_squared_error(y_test, ridge.predict(x_test))\n",
    "print(\"Ridge Regression:\")\n",
    "print(\"Validation MSE:\", ridge_val_mse)\n",
    "print(\"Test MSE:\", ridge_test_mse)\n",
    "print()"
   ]
  },
  {
   "cell_type": "code",
   "execution_count": 16,
   "metadata": {},
   "outputs": [],
   "source": [
    "y_pred = ridge.predict(x_test)"
   ]
  },
  {
   "cell_type": "code",
   "execution_count": 17,
   "metadata": {},
   "outputs": [
    {
     "name": "stdout",
     "output_type": "stream",
     "text": [
      "Model Score:  0.20138230444578964\n"
     ]
    }
   ],
   "source": [
    "print(\"Model Score: \", ridge.score(x_test, y_test))"
   ]
  },
  {
   "cell_type": "code",
   "execution_count": 18,
   "metadata": {},
   "outputs": [
    {
     "data": {
      "text/plain": [
       "array([-0.01835944,  0.2437397 ,  0.11190695, -0.08158528,  0.19675699,\n",
       "       -0.07820038, -0.56238419, -0.56896699])"
      ]
     },
     "execution_count": 18,
     "metadata": {},
     "output_type": "execute_result"
    }
   ],
   "source": [
    "ridge.coef_"
   ]
  },
  {
   "cell_type": "code",
   "execution_count": 97,
   "metadata": {},
   "outputs": [
    {
     "name": "stdout",
     "output_type": "stream",
     "text": [
      "                            OLS Regression Results                            \n",
      "==============================================================================\n",
      "Dep. Variable:                      y   R-squared:                       0.185\n",
      "Model:                            OLS   Adj. R-squared:                  0.166\n",
      "Method:                 Least Squares   F-statistic:                     9.385\n",
      "Date:                Tue, 18 Jul 2023   Prob (F-statistic):           1.09e-11\n",
      "Time:                        11:56:36   Log-Likelihood:                -68.315\n",
      "No. Observations:                 339   AIC:                             154.6\n",
      "Df Residuals:                     330   BIC:                             189.1\n",
      "Df Model:                           8                                         \n",
      "Covariance Type:            nonrobust                                         \n",
      "==============================================================================\n",
      "                 coef    std err          t      P>|t|      [0.025      0.975]\n",
      "------------------------------------------------------------------------------\n",
      "const          5.9980      0.409     14.668      0.000       5.194       6.802\n",
      "x1            -0.0182      0.033     -0.547      0.585      -0.084       0.047\n",
      "x2             0.2471      0.070      3.538      0.000       0.110       0.385\n",
      "x3             0.1155      0.082      1.408      0.160      -0.046       0.277\n",
      "x4            -0.0784      0.089     -0.880      0.380      -0.254       0.097\n",
      "x5             0.2022      0.095      2.118      0.035       0.014       0.390\n",
      "x6            -0.0746      0.083     -0.901      0.368      -0.237       0.088\n",
      "x7            -0.5769      0.107     -5.408      0.000      -0.787      -0.367\n",
      "x8            -0.5859      0.124     -4.726      0.000      -0.830      -0.342\n",
      "==============================================================================\n",
      "Omnibus:                      149.201   Durbin-Watson:                   2.000\n",
      "Prob(Omnibus):                  0.000   Jarque-Bera (JB):              668.354\n",
      "Skew:                           1.871   Prob(JB):                    7.39e-146\n",
      "Kurtosis:                       8.772   Cond. No.                         244.\n",
      "==============================================================================\n",
      "\n",
      "Notes:\n",
      "[1] Standard Errors assume that the covariance matrix of the errors is correctly specified.\n"
     ]
    },
    {
     "ename": "AttributeError",
     "evalue": "'numpy.ndarray' object has no attribute 'columns'",
     "output_type": "error",
     "traceback": [
      "\u001b[1;31m---------------------------------------------------------------------------\u001b[0m",
      "\u001b[1;31mAttributeError\u001b[0m                            Traceback (most recent call last)",
      "Cell \u001b[1;32mIn[97], line 17\u001b[0m\n\u001b[0;32m     14\u001b[0m coefficients \u001b[39m=\u001b[39m sm_results\u001b[39m.\u001b[39mparams\n\u001b[0;32m     16\u001b[0m \u001b[39m# Menampilkan koefisien untuk setiap fitur\u001b[39;00m\n\u001b[1;32m---> 17\u001b[0m \u001b[39mfor\u001b[39;00m feature_name, coefficient \u001b[39min\u001b[39;00m \u001b[39mzip\u001b[39m(x_train\u001b[39m.\u001b[39;49mcolumns, coefficients[\u001b[39m1\u001b[39m:]):\n\u001b[0;32m     18\u001b[0m     \u001b[39mprint\u001b[39m(\u001b[39mf\u001b[39m\u001b[39m\"\u001b[39m\u001b[39m{\u001b[39;00mfeature_name\u001b[39m}\u001b[39;00m\u001b[39m: \u001b[39m\u001b[39m{\u001b[39;00mcoefficient\u001b[39m}\u001b[39;00m\u001b[39m\"\u001b[39m)\n",
      "\u001b[1;31mAttributeError\u001b[0m: 'numpy.ndarray' object has no attribute 'columns'"
     ]
    }
   ],
   "source": [
    "import statsmodels.api as sm\n",
    "ridge_model = Ridge(alpha=0.0)  # Adjust the alpha value as needed\n",
    "ridge_model.fit(x_train, y_train)\n",
    "X_train_with_bias = sm.add_constant(x_train)\n",
    "sm_model = sm.OLS(y_train, X_train_with_bias)\n",
    "\n",
    "# Melatih model statsmodels\n",
    "sm_results = sm_model.fit()\n",
    "\n",
    "# Menampilkan summary model\n",
    "print(sm_results.summary())\n",
    "\n",
    "# Menampilkan koefisien model\n",
    "coefficients = sm_results.params\n",
    "\n",
    "# Menampilkan koefisien untuk setiap fitur\n",
    "for feature_name, coefficient in zip(x_train.columns, coefficients[1:]):\n",
    "    print(f\"{feature_name}: {coefficient}\")"
   ]
  },
  {
   "attachments": {},
   "cell_type": "markdown",
   "metadata": {},
   "source": [
    "MENGHITUNG AKURASI MODEL REGRESI RIDGE"
   ]
  },
  {
   "cell_type": "code",
   "execution_count": 41,
   "metadata": {},
   "outputs": [
    {
     "name": "stdout",
     "output_type": "stream",
     "text": [
      "Accuracy: 92.59263547945449\n"
     ]
    }
   ],
   "source": [
    "from sklearn.metrics import accuracy_score\n",
    "\n",
    "def calculate_accuracy(y_test, y_pred):\n",
    "    mse = np.mean((y_test - y_pred) ** 2)\n",
    "    accuracy = 1 / (1 + mse)*100\n",
    "    return accuracy\n",
    "\n",
    "accuracy = calculate_accuracy(y_test, y_pred)\n",
    "print(\"Accuracy:\", accuracy)"
   ]
  },
  {
   "attachments": {},
   "cell_type": "markdown",
   "metadata": {},
   "source": [
    "MENCARI ALPHA TERBAIK DENGAN TEKNIK CV"
   ]
  },
  {
   "cell_type": "code",
   "execution_count": 20,
   "metadata": {},
   "outputs": [
    {
     "name": "stdout",
     "output_type": "stream",
     "text": [
      "MSE : -0.089\n",
      "Config : {'alpha': 0.62}\n"
     ]
    }
   ],
   "source": [
    "from numpy import arange\n",
    "from sklearn.model_selection import GridSearchCV\n",
    "from sklearn.metrics import mean_squared_error\n",
    "from numpy import std\n",
    "from numpy import absolute\n",
    "from sklearn.model_selection import cross_val_score\n",
    "from sklearn.model_selection import RepeatedKFold\n",
    "\n",
    "import warnings\n",
    "warnings.filterwarnings('ignore')\n",
    "\n",
    "model = Ridge()\n",
    "cv = RepeatedKFold(n_splits=10, n_repeats=3, random_state=1)\n",
    "\n",
    "grid = dict()\n",
    "grid ['alpha'] = arange(0,1, 0.01)\n",
    "\n",
    "search = GridSearchCV(model, grid, scoring='neg_mean_squared_error', cv=cv, n_jobs=-1 )\n",
    "\n",
    "results = search.fit(x, y)\n",
    "\n",
    "print('MSE : %.3f' % results.best_score_)\n",
    "print('Config : %s' % results.best_params_)"
   ]
  },
  {
   "attachments": {},
   "cell_type": "markdown",
   "metadata": {},
   "source": [
    "PERCOBAAN PREDIKSI"
   ]
  },
  {
   "cell_type": "code",
   "execution_count": 29,
   "metadata": {},
   "outputs": [
    {
     "name": "stdout",
     "output_type": "stream",
     "text": [
      "Predicted : 3.093\n"
     ]
    }
   ],
   "source": [
    "#Data ke-1 (3 tahun)\n",
    "ridge_model = Ridge(alpha=0.62)\n",
    "ridge_model.fit(x, y)\n",
    "ridge_model.coef_\n",
    "row = [2,3.15,3.26,3.33,3.51,3.51,3.42,3.82]\n",
    "yhat = ridge.predict([row])\n",
    "print('Predicted : %.3f' % yhat)\n"
   ]
  },
  {
   "attachments": {},
   "cell_type": "markdown",
   "metadata": {},
   "source": [
    "MENYIMPAN MODEL"
   ]
  },
  {
   "cell_type": "code",
   "execution_count": 103,
   "metadata": {},
   "outputs": [],
   "source": [
    "import pickle\n",
    "\n",
    "filename = 'data apk2.sav'\n",
    "pickle.dump(ridge,open(filename,'wb'))"
   ]
  },
  {
   "cell_type": "code",
   "execution_count": 1,
   "metadata": {},
   "outputs": [
    {
     "ename": "NameError",
     "evalue": "name 'labelencoder' is not defined",
     "output_type": "error",
     "traceback": [
      "\u001b[1;31m---------------------------------------------------------------------------\u001b[0m",
      "\u001b[1;31mNameError\u001b[0m                                 Traceback (most recent call last)",
      "Cell \u001b[1;32mIn[1], line 5\u001b[0m\n\u001b[0;32m      2\u001b[0m \u001b[39mimport\u001b[39;00m \u001b[39mpickle\u001b[39;00m\n\u001b[0;32m      4\u001b[0m filename \u001b[39m=\u001b[39m \u001b[39m'\u001b[39m\u001b[39mlabel_encoder.pkl\u001b[39m\u001b[39m'\u001b[39m\n\u001b[1;32m----> 5\u001b[0m pickle\u001b[39m.\u001b[39mdump(labelencoder, \u001b[39mopen\u001b[39m(filename,\u001b[39m'\u001b[39m\u001b[39mwb\u001b[39m\u001b[39m'\u001b[39m))\n",
      "\u001b[1;31mNameError\u001b[0m: name 'labelencoder' is not defined"
     ]
    }
   ],
   "source": [
    "# Simpan label encoder setelah dilatih pada data pelatihan\n",
    "import pickle\n",
    "\n",
    "filename = 'label_encoder.pkl'\n",
    "pickle.dump(labelencoder, open(filename,'wb'))"
   ]
  }
 ],
 "metadata": {
  "kernelspec": {
   "display_name": "Python 3",
   "language": "python",
   "name": "python3"
  },
  "language_info": {
   "codemirror_mode": {
    "name": "ipython",
    "version": 3
   },
   "file_extension": ".py",
   "mimetype": "text/x-python",
   "name": "python",
   "nbconvert_exporter": "python",
   "pygments_lexer": "ipython3",
   "version": "3.10.0"
  },
  "orig_nbformat": 4
 },
 "nbformat": 4,
 "nbformat_minor": 2
}
